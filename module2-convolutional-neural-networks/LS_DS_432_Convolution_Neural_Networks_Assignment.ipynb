{
  "nbformat": 4,
  "nbformat_minor": 0,
  "metadata": {
    "kernelspec": {
      "display_name": "U4-S2-NNF-DS10",
      "language": "python",
      "name": "u4-s2-nnf-ds10"
    },
    "language_info": {
      "codemirror_mode": {
        "name": "ipython",
        "version": 3
      },
      "file_extension": ".py",
      "mimetype": "text/x-python",
      "name": "python",
      "nbconvert_exporter": "python",
      "pygments_lexer": "ipython3",
      "version": "3.7.6"
    },
    "nteract": {
      "version": "0.23.1"
    },
    "colab": {
      "name": "LS_DS_432_Convolution_Neural_Networks_Assignment.ipynb",
      "provenance": [],
      "collapsed_sections": []
    },
    "accelerator": "GPU"
  },
  "cells": [
    {
      "cell_type": "markdown",
      "metadata": {
        "id": "fc4yMj7mtCAZ"
      },
      "source": [
        "<img align=\"left\" src=\"https://lever-client-logos.s3.amazonaws.com/864372b1-534c-480e-acd5-9711f850815c-1524247202159.png\" width=200>\n",
        "<br></br>\n",
        "<br></br>\n",
        "\n",
        "## *Data Science Unit 4 Sprint 3 Assignment 2*\n",
        "# Convolutional Neural Networks (CNNs)"
      ]
    },
    {
      "cell_type": "markdown",
      "metadata": {
        "id": "0lfZdD_cp1t5"
      },
      "source": [
        "# Assignment\n",
        "\n",
        "- <a href=\"#p1\">Part 1:</a> Pre-Trained Model\n",
        "- <a href=\"#p2\">Part 2:</a> Custom CNN Model\n",
        "- <a href=\"#p3\">Part 3:</a> CNN with Data Augmentation\n",
        "\n",
        "\n",
        "You will apply three different CNN models to a binary image classification model using Keras. Classify images of Mountains (`./data/train/mountain/*`) and images of forests (`./data/train/forest/*`). Treat mountains as the positive class (1) and the forest images as the negative (zero). \n",
        "\n",
        "|Mountain (+)|Forest (-)|\n",
        "|---|---|\n",
        "|![](https://github.com/LambdaSchool/DS-Unit-4-Sprint-3-Deep-Learning/blob/main/module2-convolutional-neural-networks/data/train/mountain/art1131.jpg?raw=1)|![](https://github.com/LambdaSchool/DS-Unit-4-Sprint-3-Deep-Learning/blob/main/module2-convolutional-neural-networks/data/validation/forest/cdmc317.jpg?raw=1)|\n",
        "\n",
        "The problem is relatively difficult given that the sample is tiny: there are about 350 observations per class. This sample size might be something that you can expect with prototyping an image classification problem/solution at work. Get accustomed to evaluating several different possible models."
      ]
    },
    {
      "cell_type": "markdown",
      "metadata": {
        "id": "1eawBP-otCAb"
      },
      "source": [
        "# Pre - Trained Model\n",
        "<a id=\"p1\"></a>\n",
        "\n",
        "Load a pretrained network from Keras, [ResNet50](https://tfhub.dev/google/imagenet/resnet_v1_50/classification/1) - a 50 layer deep network trained to recognize [1000 objects](https://storage.googleapis.com/download.tensorflow.org/data/ImageNetLabels.txt). Starting usage:\n",
        "\n",
        "```python\n",
        "import numpy as np\n",
        "\n",
        "from tensorflow.keras.applications.resnet50 import ResNet50\n",
        "from tensorflow.keras.preprocessing import image\n",
        "from tensorflow.keras.applications.resnet50 import preprocess_input, decode_predictions\n",
        "\n",
        "from tensorflow.keras.layers import Dense, GlobalAveragePooling2D\n",
        "from tensorflow.keras.models import Model # This is the functional API\n",
        "\n",
        "resnet = ResNet50(weights='imagenet', include_top=False)\n",
        "\n",
        "```\n",
        "\n",
        "The `include_top` parameter in `ResNet50` will remove the full connected layers from the ResNet model. The next step is to turn off the training of the ResNet layers. We want to use the learned parameters without updating them in future training passes. \n",
        "\n",
        "```python\n",
        "for layer in resnet.layers:\n",
        "    layer.trainable = False\n",
        "```\n",
        "\n",
        "Using the Keras functional API, we will need to additional additional full connected layers to our model. We we removed the top layers, we removed all preivous fully connected layers. In other words, we kept only the feature processing portions of our network. You can expert with additional layers beyond what's listed here. The `GlobalAveragePooling2D` layer functions as a really fancy flatten function by taking the average of each of the last convolutional layer outputs (which is two dimensional still). \n",
        "\n",
        "```python\n",
        "x = resnet.output\n",
        "x = GlobalAveragePooling2D()(x) # This layer is a really fancy flatten\n",
        "x = Dense(1024, activation='relu')(x)\n",
        "predictions = Dense(1, activation='sigmoid')(x)\n",
        "model = Model(resnet.input, predictions)\n",
        "```\n",
        "\n",
        "Your assignment is to apply the transfer learning above to classify images of Mountains (`./data/train/mountain/*`) and images of forests (`./data/train/forest/*`). Treat mountains as the positive class (1) and the forest images as the negative (zero). \n",
        "\n",
        "Steps to complete assignment: \n",
        "1. Load in Image Data into numpy arrays (`X`) \n",
        "2. Create a `y` for the labels\n",
        "3. Train your model with pre-trained layers from resnet\n",
        "4. Report your model's accuracy"
      ]
    },
    {
      "cell_type": "markdown",
      "metadata": {
        "id": "CLdGdXCatCAb"
      },
      "source": [
        "## Load in Data\n",
        "\n",
        "This surprisingly more difficult than it seems, because you are working with directories of images instead of a single file. This boiler plate will help you download a zipped version of the directory of images. The directory is organized into \"train\" and \"validation\" which you can use inside an `ImageGenerator` class to stream batches of images thru your model.  \n"
      ]
    },
    {
      "cell_type": "markdown",
      "metadata": {
        "id": "moRVuHUqtCAc"
      },
      "source": [
        "### Download & Summarize the Data\n",
        "\n",
        "This step is completed for you. Just run the cells and review the results. "
      ]
    },
    {
      "cell_type": "code",
      "metadata": {
        "colab": {
          "base_uri": "https://localhost:8080/"
        },
        "id": "usHjjtf49xX0",
        "outputId": "a7f27453-6512-4ec2-ab79-13afe02f5543"
      },
      "source": [
        "import numpy as np\n",
        "import tensorflow as tf\n",
        "import os\n",
        "\n",
        "from tensorflow.keras.applications.resnet50 import ResNet50\n",
        "from tensorflow.keras.preprocessing import image\n",
        "from tensorflow.keras.applications.resnet50 import preprocess_input, decode_predictions\n",
        "from tensorflow.keras.layers import Dense, GlobalAveragePooling2D, Conv2D, MaxPooling2D, Flatten\n",
        "from tensorflow.keras.models import Model, Sequential # This is the functional API\n",
        "from tensorflow.keras.callbacks import ModelCheckpoint, EarlyStopping, TensorBoard\n",
        "\n",
        "resnet = ResNet50(weights='imagenet', include_top=False)"
      ],
      "execution_count": 1,
      "outputs": [
        {
          "output_type": "stream",
          "text": [
            "Downloading data from https://storage.googleapis.com/tensorflow/keras-applications/resnet/resnet50_weights_tf_dim_ordering_tf_kernels_notop.h5\n",
            "94773248/94765736 [==============================] - 1s 0us/step\n"
          ],
          "name": "stdout"
        }
      ]
    },
    {
      "cell_type": "code",
      "metadata": {
        "id": "hP_ioU2VMnA7"
      },
      "source": [
        "# Set Tensorflow random seed for model tuning\n",
        "tf.random.set_seed(17)"
      ],
      "execution_count": 2,
      "outputs": []
    },
    {
      "cell_type": "code",
      "metadata": {
        "id": "3fGQObIA979J"
      },
      "source": [
        "for layer in resnet.layers:\n",
        "    layer.trainable = False"
      ],
      "execution_count": 3,
      "outputs": []
    },
    {
      "cell_type": "code",
      "metadata": {
        "id": "acgYr6_R-I45"
      },
      "source": [
        "x = resnet.output\n",
        "x = GlobalAveragePooling2D()(x) # This layer is a really fancy flatten\n",
        "x = Dense(1024, activation='relu')(x)\n",
        "predictions = Dense(1, activation='sigmoid')(x)\n",
        "model = Model(resnet.input, predictions)"
      ],
      "execution_count": 4,
      "outputs": []
    },
    {
      "cell_type": "code",
      "metadata": {
        "id": "YcPgQ1OiTVYi"
      },
      "source": [
        "from google.colab import drive\n",
        "drive.mount('/content/drive')"
      ],
      "execution_count": null,
      "outputs": []
    },
    {
      "cell_type": "code",
      "metadata": {
        "id": "AR66H8o9tCAc",
        "colab": {
          "base_uri": "https://localhost:8080/",
          "height": 89
        },
        "outputId": "0c47cf97-64d7-4e21-9901-5dc241b4c8fd"
      },
      "source": [
        "_URL = 'https://github.com/LambdaSchool/DS-Unit-4-Sprint-3-Deep-Learning/blob/main/module2-convolutional-neural-networks/data.zip?raw=true'\n",
        "\n",
        "path_to_zip = tf.keras.utils.get_file('./data.zip', origin=_URL, extract=True)\n",
        "PATH = os.path.join(os.path.dirname(path_to_zip), 'data')\n",
        "''' commented out because I manually uploaded the data to the correct folders before noticing the code given to do it for me ''' "
      ],
      "execution_count": 5,
      "outputs": [
        {
          "output_type": "stream",
          "text": [
            "Downloading data from https://github.com/LambdaSchool/DS-Unit-4-Sprint-3-Deep-Learning/blob/main/module2-convolutional-neural-networks/data.zip?raw=true\n",
            "42172416/42170838 [==============================] - 0s 0us/step\n"
          ],
          "name": "stdout"
        },
        {
          "output_type": "execute_result",
          "data": {
            "application/vnd.google.colaboratory.intrinsic+json": {
              "type": "string"
            },
            "text/plain": [
              "' commented out because I manually uploaded the data to the correct folders before noticing the code given to do it for me '"
            ]
          },
          "metadata": {
            "tags": []
          },
          "execution_count": 5
        }
      ]
    },
    {
      "cell_type": "code",
      "metadata": {
        "id": "MNFsIu_KtCAg"
      },
      "source": [
        "#@title Reverted to given code due to extra class { display-mode: \"both\" }\n",
        "\n",
        "#PATH = './data/' #for future runs, the last cell can be uncommented and this line can be commented out.\n",
        "train_dir = os.path.join(PATH, 'train')\n",
        "validation_dir = os.path.join(PATH, 'validation')"
      ],
      "execution_count": 6,
      "outputs": []
    },
    {
      "cell_type": "code",
      "metadata": {
        "id": "OsI9BQLotCAj"
      },
      "source": [
        "train_mountain_dir = os.path.join(train_dir, 'mountain')  # directory with our training mountain pictures\n",
        "train_forest_dir = os.path.join(train_dir, 'forest')  # directory with our training forest pictures\n",
        "validation_mountain_dir = os.path.join(validation_dir, 'mountain')  # directory with our validation mountain pictures\n",
        "validation_forest_dir = os.path.join(validation_dir, 'forest')  # directory with our validation forest pictures"
      ],
      "execution_count": 7,
      "outputs": []
    },
    {
      "cell_type": "code",
      "metadata": {
        "id": "NUs1e5-XtCAl"
      },
      "source": [
        "num_mountain_tr = len(os.listdir(train_mountain_dir))\n",
        "num_forest_tr = len(os.listdir(train_forest_dir))\n",
        "\n",
        "num_mountain_val = len(os.listdir(validation_mountain_dir))\n",
        "num_forest_val = len(os.listdir(validation_forest_dir))\n",
        "\n",
        "total_train = num_mountain_tr + num_forest_tr\n",
        "total_val = num_mountain_val + num_forest_val"
      ],
      "execution_count": 8,
      "outputs": []
    },
    {
      "cell_type": "code",
      "metadata": {
        "id": "ZmklbgSMtCAn",
        "colab": {
          "base_uri": "https://localhost:8080/"
        },
        "outputId": "35db8d22-b7a3-4b9e-a3e9-9d64ddf0b2a4"
      },
      "source": [
        "print('total training mountain images:', num_mountain_tr)\n",
        "print('total training forest images:', num_forest_tr)\n",
        "\n",
        "print('total validation mountain images:', num_mountain_val)\n",
        "print('total validation forest images:', num_forest_val)\n",
        "print(\"--\")\n",
        "print(\"Total training images:\", total_train)\n",
        "print(\"Total validation images:\", total_val)"
      ],
      "execution_count": 9,
      "outputs": [
        {
          "output_type": "stream",
          "text": [
            "total training mountain images: 254\n",
            "total training forest images: 270\n",
            "total validation mountain images: 125\n",
            "total validation forest images: 62\n",
            "--\n",
            "Total training images: 524\n",
            "Total validation images: 187\n"
          ],
          "name": "stdout"
        }
      ]
    },
    {
      "cell_type": "markdown",
      "metadata": {
        "id": "dQ4ag4ultCAq"
      },
      "source": [
        "### Keras `ImageGenerator` to Process the Data\n",
        "\n",
        "This step is completed for you, but please review the code. The `ImageGenerator` class reads in batches of data from a directory and pass them to the model one batch at a time. Just like large text files, this method is advantageous, because it stifles the need to load a bunch of images into memory. \n",
        "\n",
        "Check out the documentation for this class method: [Keras `ImageGenerator` Class](https://keras.io/preprocessing/image/#imagedatagenerator-class). You'll expand it's use in the third assignment objective."
      ]
    },
    {
      "cell_type": "code",
      "metadata": {
        "id": "67i9IW49tCAq"
      },
      "source": [
        "batch_size = 16\n",
        "epochs = 50\n",
        "IMG_HEIGHT = 224\n",
        "IMG_WIDTH = 224"
      ],
      "execution_count": 10,
      "outputs": []
    },
    {
      "cell_type": "code",
      "metadata": {
        "id": "B1wNKMo1tCAt"
      },
      "source": [
        "from tensorflow.keras.preprocessing.image import ImageDataGenerator\n",
        "\n",
        "train_image_generator = ImageDataGenerator(rescale=1./255) # Generator for our training data\n",
        "validation_image_generator = ImageDataGenerator(rescale=1./255) # Generator for our validation data"
      ],
      "execution_count": 11,
      "outputs": []
    },
    {
      "cell_type": "code",
      "metadata": {
        "id": "ndsuM4L9tCAv",
        "colab": {
          "base_uri": "https://localhost:8080/"
        },
        "outputId": "fa0f11f1-0fe4-431d-e648-7e36c017b573"
      },
      "source": [
        "train_data_gen = train_image_generator.flow_from_directory(batch_size=batch_size,\n",
        "                                                           directory=train_dir,\n",
        "                                                           shuffle=True,\n",
        "                                                           target_size=(IMG_HEIGHT, IMG_WIDTH),\n",
        "                                                           class_mode='binary')"
      ],
      "execution_count": 12,
      "outputs": [
        {
          "output_type": "stream",
          "text": [
            "Found 533 images belonging to 2 classes.\n"
          ],
          "name": "stdout"
        }
      ]
    },
    {
      "cell_type": "code",
      "metadata": {
        "id": "9kxlk3optCAy",
        "colab": {
          "base_uri": "https://localhost:8080/"
        },
        "outputId": "8e6150d6-87b9-48be-d571-c653b3166718"
      },
      "source": [
        "val_data_gen = validation_image_generator.flow_from_directory(batch_size=batch_size,\n",
        "                                                              directory=validation_dir,\n",
        "                                                              target_size=(IMG_HEIGHT, IMG_WIDTH),\n",
        "                                                              class_mode='binary')"
      ],
      "execution_count": 13,
      "outputs": [
        {
          "output_type": "stream",
          "text": [
            "Found 195 images belonging to 2 classes.\n"
          ],
          "name": "stdout"
        }
      ]
    },
    {
      "cell_type": "markdown",
      "metadata": {
        "id": "2l7ue6NutCA0"
      },
      "source": [
        "## Instatiate Model"
      ]
    },
    {
      "cell_type": "code",
      "metadata": {
        "id": "mKNIYOEItCA0",
        "colab": {
          "base_uri": "https://localhost:8080/"
        },
        "outputId": "3266d25c-c477-44a5-d1e8-80bc09e21c53"
      },
      "source": [
        "model = Sequential()\n",
        "model.add(Conv2D(32, (3,3), activation='relu', input_shape=(224,224,3)))\n",
        "model.add(MaxPooling2D((2,2)))\n",
        "model.add(Conv2D(64, (3,3), activation='relu'))\n",
        "model.add(MaxPooling2D((2,2)))\n",
        "model.add(Conv2D(64, (3,3), activation='relu'))\n",
        "model.add(Flatten())\n",
        "model.add(Dense(64, activation='relu'))\n",
        "model.add(Dense(10, activation='softmax'))\n",
        "model.summary()"
      ],
      "execution_count": 14,
      "outputs": [
        {
          "output_type": "stream",
          "text": [
            "Model: \"sequential\"\n",
            "_________________________________________________________________\n",
            "Layer (type)                 Output Shape              Param #   \n",
            "=================================================================\n",
            "conv2d (Conv2D)              (None, 222, 222, 32)      896       \n",
            "_________________________________________________________________\n",
            "max_pooling2d (MaxPooling2D) (None, 111, 111, 32)      0         \n",
            "_________________________________________________________________\n",
            "conv2d_1 (Conv2D)            (None, 109, 109, 64)      18496     \n",
            "_________________________________________________________________\n",
            "max_pooling2d_1 (MaxPooling2 (None, 54, 54, 64)        0         \n",
            "_________________________________________________________________\n",
            "conv2d_2 (Conv2D)            (None, 52, 52, 64)        36928     \n",
            "_________________________________________________________________\n",
            "flatten (Flatten)            (None, 173056)            0         \n",
            "_________________________________________________________________\n",
            "dense_2 (Dense)              (None, 64)                11075648  \n",
            "_________________________________________________________________\n",
            "dense_3 (Dense)              (None, 10)                650       \n",
            "=================================================================\n",
            "Total params: 11,132,618\n",
            "Trainable params: 11,132,618\n",
            "Non-trainable params: 0\n",
            "_________________________________________________________________\n"
          ],
          "name": "stdout"
        }
      ]
    },
    {
      "cell_type": "code",
      "metadata": {
        "id": "ctcD8L55Gugm"
      },
      "source": [
        "# Compile Model\n",
        "model.compile(optimizer='adam',\n",
        "              loss='sparse_categorical_crossentropy',\n",
        "              metrics=['accuracy'])"
      ],
      "execution_count": 15,
      "outputs": []
    },
    {
      "cell_type": "markdown",
      "metadata": {
        "id": "BVPBWYG7tCA2"
      },
      "source": [
        "## Fit Model"
      ]
    },
    {
      "cell_type": "code",
      "metadata": {
        "id": "H4XdvWA5tCA3",
        "colab": {
          "base_uri": "https://localhost:8080/"
        },
        "outputId": "a49b51ba-4518-466a-9333-11a9f3a1dbdc"
      },
      "source": [
        "history = model.fit(\n",
        "    train_data_gen,\n",
        "    steps_per_epoch=total_train // batch_size,\n",
        "    epochs=epochs,\n",
        "    validation_data=val_data_gen,\n",
        "    validation_steps=total_val // batch_size\n",
        ")"
      ],
      "execution_count": 16,
      "outputs": [
        {
          "output_type": "stream",
          "text": [
            "Epoch 1/50\n",
            "32/32 [==============================] - 2s 72ms/step - loss: 0.7851 - accuracy: 0.7226 - val_loss: 0.1927 - val_accuracy: 0.9148\n",
            "Epoch 2/50\n",
            "32/32 [==============================] - 2s 65ms/step - loss: 0.3144 - accuracy: 0.8723 - val_loss: 0.1515 - val_accuracy: 0.9261\n",
            "Epoch 3/50\n",
            "32/32 [==============================] - 2s 66ms/step - loss: 0.1663 - accuracy: 0.9441 - val_loss: 0.2489 - val_accuracy: 0.8807\n",
            "Epoch 4/50\n",
            "32/32 [==============================] - 2s 65ms/step - loss: 0.1013 - accuracy: 0.9601 - val_loss: 0.1959 - val_accuracy: 0.9261\n",
            "Epoch 5/50\n",
            "32/32 [==============================] - 2s 66ms/step - loss: 0.1228 - accuracy: 0.9541 - val_loss: 0.5655 - val_accuracy: 0.7784\n",
            "Epoch 6/50\n",
            "32/32 [==============================] - 2s 67ms/step - loss: 0.1394 - accuracy: 0.9551 - val_loss: 0.2466 - val_accuracy: 0.9205\n",
            "Epoch 7/50\n",
            "32/32 [==============================] - 2s 66ms/step - loss: 0.0902 - accuracy: 0.9661 - val_loss: 0.1840 - val_accuracy: 0.9375\n",
            "Epoch 8/50\n",
            "32/32 [==============================] - 2s 66ms/step - loss: 0.0411 - accuracy: 0.9863 - val_loss: 0.2847 - val_accuracy: 0.9205\n",
            "Epoch 9/50\n",
            "32/32 [==============================] - 2s 65ms/step - loss: 0.0521 - accuracy: 0.9741 - val_loss: 0.1562 - val_accuracy: 0.9545\n",
            "Epoch 10/50\n",
            "32/32 [==============================] - 2s 65ms/step - loss: 0.0201 - accuracy: 0.9920 - val_loss: 0.3561 - val_accuracy: 0.9091\n",
            "Epoch 11/50\n",
            "32/32 [==============================] - 2s 66ms/step - loss: 0.0295 - accuracy: 0.9880 - val_loss: 0.7465 - val_accuracy: 0.8807\n",
            "Epoch 12/50\n",
            "32/32 [==============================] - 2s 65ms/step - loss: 0.0610 - accuracy: 0.9820 - val_loss: 0.1967 - val_accuracy: 0.9318\n",
            "Epoch 13/50\n",
            "32/32 [==============================] - 2s 66ms/step - loss: 0.0388 - accuracy: 0.9860 - val_loss: 0.3867 - val_accuracy: 0.9091\n",
            "Epoch 14/50\n",
            "32/32 [==============================] - 2s 65ms/step - loss: 0.0071 - accuracy: 0.9980 - val_loss: 0.4388 - val_accuracy: 0.9034\n",
            "Epoch 15/50\n",
            "32/32 [==============================] - 2s 65ms/step - loss: 0.0105 - accuracy: 0.9960 - val_loss: 0.2960 - val_accuracy: 0.9318\n",
            "Epoch 16/50\n",
            "32/32 [==============================] - 2s 65ms/step - loss: 0.0128 - accuracy: 0.9940 - val_loss: 0.1808 - val_accuracy: 0.9489\n",
            "Epoch 17/50\n",
            "32/32 [==============================] - 2s 63ms/step - loss: 0.0212 - accuracy: 0.9940 - val_loss: 0.2984 - val_accuracy: 0.9261\n",
            "Epoch 18/50\n",
            "32/32 [==============================] - 2s 64ms/step - loss: 0.0050 - accuracy: 1.0000 - val_loss: 0.2969 - val_accuracy: 0.9205\n",
            "Epoch 19/50\n",
            "32/32 [==============================] - 2s 64ms/step - loss: 7.9345e-04 - accuracy: 1.0000 - val_loss: 0.3150 - val_accuracy: 0.9318\n",
            "Epoch 20/50\n",
            "32/32 [==============================] - 2s 64ms/step - loss: 3.9053e-04 - accuracy: 1.0000 - val_loss: 0.4102 - val_accuracy: 0.9091\n",
            "Epoch 21/50\n",
            "32/32 [==============================] - 2s 64ms/step - loss: 2.6755e-04 - accuracy: 1.0000 - val_loss: 0.4368 - val_accuracy: 0.9034\n",
            "Epoch 22/50\n",
            "32/32 [==============================] - 2s 63ms/step - loss: 1.8649e-04 - accuracy: 1.0000 - val_loss: 0.3233 - val_accuracy: 0.9205\n",
            "Epoch 23/50\n",
            "32/32 [==============================] - 2s 64ms/step - loss: 1.2848e-04 - accuracy: 1.0000 - val_loss: 0.4552 - val_accuracy: 0.9091\n",
            "Epoch 24/50\n",
            "32/32 [==============================] - 2s 65ms/step - loss: 1.1472e-04 - accuracy: 1.0000 - val_loss: 0.4754 - val_accuracy: 0.9034\n",
            "Epoch 25/50\n",
            "32/32 [==============================] - 2s 64ms/step - loss: 9.3329e-05 - accuracy: 1.0000 - val_loss: 0.4781 - val_accuracy: 0.9091\n",
            "Epoch 26/50\n",
            "32/32 [==============================] - 2s 64ms/step - loss: 8.2423e-05 - accuracy: 1.0000 - val_loss: 0.4371 - val_accuracy: 0.9148\n",
            "Epoch 27/50\n",
            "32/32 [==============================] - 2s 64ms/step - loss: 6.6888e-05 - accuracy: 1.0000 - val_loss: 0.5240 - val_accuracy: 0.9148\n",
            "Epoch 28/50\n",
            "32/32 [==============================] - 2s 66ms/step - loss: 5.8136e-05 - accuracy: 1.0000 - val_loss: 0.4889 - val_accuracy: 0.9205\n",
            "Epoch 29/50\n",
            "32/32 [==============================] - 2s 65ms/step - loss: 4.4782e-05 - accuracy: 1.0000 - val_loss: 0.6236 - val_accuracy: 0.8977\n",
            "Epoch 30/50\n",
            "32/32 [==============================] - 2s 64ms/step - loss: 3.8980e-05 - accuracy: 1.0000 - val_loss: 0.6197 - val_accuracy: 0.9034\n",
            "Epoch 31/50\n",
            "32/32 [==============================] - 2s 65ms/step - loss: 4.0789e-05 - accuracy: 1.0000 - val_loss: 0.5959 - val_accuracy: 0.9091\n",
            "Epoch 32/50\n",
            "32/32 [==============================] - 2s 64ms/step - loss: 2.7195e-05 - accuracy: 1.0000 - val_loss: 0.5652 - val_accuracy: 0.9205\n",
            "Epoch 33/50\n",
            "32/32 [==============================] - 2s 64ms/step - loss: 2.5571e-05 - accuracy: 1.0000 - val_loss: 0.5460 - val_accuracy: 0.9091\n",
            "Epoch 34/50\n",
            "32/32 [==============================] - 2s 66ms/step - loss: 1.9589e-05 - accuracy: 1.0000 - val_loss: 0.5630 - val_accuracy: 0.9091\n",
            "Epoch 35/50\n",
            "32/32 [==============================] - 2s 67ms/step - loss: 1.3895e-05 - accuracy: 1.0000 - val_loss: 0.6075 - val_accuracy: 0.9205\n",
            "Epoch 36/50\n",
            "32/32 [==============================] - 2s 65ms/step - loss: 1.6149e-05 - accuracy: 1.0000 - val_loss: 0.6451 - val_accuracy: 0.9091\n",
            "Epoch 37/50\n",
            "32/32 [==============================] - 2s 65ms/step - loss: 2.0303e-05 - accuracy: 1.0000 - val_loss: 0.6241 - val_accuracy: 0.9148\n",
            "Epoch 38/50\n",
            "32/32 [==============================] - 2s 65ms/step - loss: 1.2920e-05 - accuracy: 1.0000 - val_loss: 0.6499 - val_accuracy: 0.9091\n",
            "Epoch 39/50\n",
            "32/32 [==============================] - 2s 64ms/step - loss: 1.0533e-05 - accuracy: 1.0000 - val_loss: 0.6538 - val_accuracy: 0.9148\n",
            "Epoch 40/50\n",
            "32/32 [==============================] - 2s 66ms/step - loss: 1.0399e-05 - accuracy: 1.0000 - val_loss: 0.6170 - val_accuracy: 0.9205\n",
            "Epoch 41/50\n",
            "32/32 [==============================] - 2s 64ms/step - loss: 1.2493e-05 - accuracy: 1.0000 - val_loss: 0.5972 - val_accuracy: 0.9205\n",
            "Epoch 42/50\n",
            "32/32 [==============================] - 2s 64ms/step - loss: 8.0260e-06 - accuracy: 1.0000 - val_loss: 0.6552 - val_accuracy: 0.9091\n",
            "Epoch 43/50\n",
            "32/32 [==============================] - 2s 63ms/step - loss: 8.5539e-06 - accuracy: 1.0000 - val_loss: 0.6770 - val_accuracy: 0.9148\n",
            "Epoch 44/50\n",
            "32/32 [==============================] - 2s 63ms/step - loss: 6.7776e-06 - accuracy: 1.0000 - val_loss: 0.7231 - val_accuracy: 0.9091\n",
            "Epoch 45/50\n",
            "32/32 [==============================] - 2s 63ms/step - loss: 5.9693e-06 - accuracy: 1.0000 - val_loss: 0.5950 - val_accuracy: 0.9318\n",
            "Epoch 46/50\n",
            "32/32 [==============================] - 2s 63ms/step - loss: 5.7806e-06 - accuracy: 1.0000 - val_loss: 0.6748 - val_accuracy: 0.9148\n",
            "Epoch 47/50\n",
            "32/32 [==============================] - 2s 63ms/step - loss: 4.9328e-06 - accuracy: 1.0000 - val_loss: 0.7067 - val_accuracy: 0.9148\n",
            "Epoch 48/50\n",
            "32/32 [==============================] - 2s 64ms/step - loss: 4.4604e-06 - accuracy: 1.0000 - val_loss: 0.6563 - val_accuracy: 0.9205\n",
            "Epoch 49/50\n",
            "32/32 [==============================] - 2s 63ms/step - loss: 3.7033e-06 - accuracy: 1.0000 - val_loss: 0.5816 - val_accuracy: 0.9205\n",
            "Epoch 50/50\n",
            "32/32 [==============================] - 2s 64ms/step - loss: 4.0870e-06 - accuracy: 1.0000 - val_loss: 0.7574 - val_accuracy: 0.9148\n"
          ],
          "name": "stdout"
        }
      ]
    },
    {
      "cell_type": "markdown",
      "metadata": {
        "id": "kCgi913jIimD"
      },
      "source": [
        "At first glance, I feel the best results befgore overfitting are found in Epoch 5/50\n",
        "\n",
        "32/32 [==============================] - 2s 66ms/step - loss: 0.1097 - accuracy: 0.9601 - val_loss: 0.1540 - val_accuracy: 0.9432\n",
        "\n",
        "Early stopping would be incorporated if this were going to be used in production.\n",
        "\n",
        "\n",
        "> Indented block\n",
        "\n"
      ]
    },
    {
      "cell_type": "markdown",
      "metadata": {
        "id": "UPzsgS94tCA5"
      },
      "source": [
        "# Custom CNN Model\n",
        "\n",
        "In this step, write and train your own convolutional neural network using Keras. You can use any architecture that suits you as long as it has at least one convolutional and one pooling layer at the beginning of the network - you can add more if you want. "
      ]
    },
    {
      "cell_type": "code",
      "metadata": {
        "id": "hqEmh5NaJ1NI"
      },
      "source": [
        "# meh.. let's do the early stopping anyway\n",
        "logdir = os.path.join(\"logs\", \"EarlyStopping-Loss\")\n",
        "stop = EarlyStopping(monitor='val_accuracy', min_delta=0.001, patience=3)\n",
        "mcp = ModelCheckpoint('best_weights.h5', \n",
        "                      monitor='val_accuracy', \n",
        "                      verbose=1, \n",
        "                      save_best_only=True,\n",
        "                      save_weights_only=True)\n",
        "tensorboard_callback = tf.keras.callbacks.TensorBoard(logdir, histogram_freq=1)"
      ],
      "execution_count": 37,
      "outputs": []
    },
    {
      "cell_type": "code",
      "metadata": {
        "id": "ORcLYfU2KVCt"
      },
      "source": [
        "model2 = Sequential()\n",
        "model2.add(Conv2D(32, (3,3), activation='relu', input_shape=(224,224,3)))\n",
        "model2.add(MaxPooling2D((2,2)))\n",
        "model2.add(Conv2D(64, (3,3), activation='relu'))\n",
        "model2.add(MaxPooling2D((2,2)))\n",
        "model2.add(Conv2D(64, (3,3), activation='relu'))\n",
        "model2.add(Flatten())\n",
        "model2.add(Dense(64, activation='relu'))\n",
        "model2.add(Dense(10, activation='softmax'))\n"
      ],
      "execution_count": 38,
      "outputs": []
    },
    {
      "cell_type": "code",
      "metadata": {
        "id": "KODv7ClBKVCu"
      },
      "source": [
        "# Compile Model\n",
        "model2.compile(optimizer='adam',\n",
        "              loss='sparse_categorical_crossentropy',\n",
        "              metrics=['accuracy'])"
      ],
      "execution_count": 39,
      "outputs": []
    },
    {
      "cell_type": "markdown",
      "metadata": {
        "id": "X___0aprKVCu"
      },
      "source": [
        "## Fit Model"
      ]
    },
    {
      "cell_type": "code",
      "metadata": {
        "colab": {
          "base_uri": "https://localhost:8080/"
        },
        "id": "mn-40XPRKVCu",
        "outputId": "16784e1d-f397-498f-b045-7df4eb53a0c7"
      },
      "source": [
        "history = model2.fit(\n",
        "    train_data_gen,\n",
        "    steps_per_epoch=total_train // batch_size,\n",
        "    epochs=epochs,\n",
        "    validation_data=val_data_gen,\n",
        "    validation_steps=total_val // batch_size,\n",
        "    callbacks=[tensorboard_callback, mcp, stop]\n",
        ")"
      ],
      "execution_count": 40,
      "outputs": [
        {
          "output_type": "stream",
          "text": [
            "Epoch 1/50\n",
            " 2/32 [>.............................] - ETA: 1s - loss: 5.0467 - accuracy: 0.2812WARNING:tensorflow:Callbacks method `on_train_batch_end` is slow compared to the batch time (batch time: 0.0331s vs `on_train_batch_end` time: 0.0626s). Check your callbacks.\n",
            "32/32 [==============================] - ETA: 0s - loss: 1.0414 - accuracy: 0.7625\n",
            "Epoch 00001: val_accuracy improved from -inf to 0.86932, saving model to best_weights.h5\n",
            "32/32 [==============================] - 3s 98ms/step - loss: 1.0414 - accuracy: 0.7625 - val_loss: 0.3126 - val_accuracy: 0.8693\n",
            "Epoch 2/50\n",
            "32/32 [==============================] - ETA: 0s - loss: 0.1760 - accuracy: 0.9341\n",
            "Epoch 00002: val_accuracy improved from 0.86932 to 0.93750, saving model to best_weights.h5\n",
            "32/32 [==============================] - 3s 91ms/step - loss: 0.1760 - accuracy: 0.9341 - val_loss: 0.1624 - val_accuracy: 0.9375\n",
            "Epoch 3/50\n",
            "31/32 [============================>.] - ETA: 0s - loss: 0.1691 - accuracy: 0.9258\n",
            "Epoch 00003: val_accuracy did not improve from 0.93750\n",
            "32/32 [==============================] - 3s 88ms/step - loss: 0.1787 - accuracy: 0.9222 - val_loss: 0.3138 - val_accuracy: 0.8693\n",
            "Epoch 4/50\n",
            "32/32 [==============================] - ETA: 0s - loss: 0.1110 - accuracy: 0.9601\n",
            "Epoch 00004: val_accuracy did not improve from 0.93750\n",
            "32/32 [==============================] - 3s 88ms/step - loss: 0.1110 - accuracy: 0.9601 - val_loss: 0.1555 - val_accuracy: 0.9375\n",
            "Epoch 5/50\n",
            "31/32 [============================>.] - ETA: 0s - loss: 0.0894 - accuracy: 0.9691\n",
            "Epoch 00005: val_accuracy improved from 0.93750 to 0.94318, saving model to best_weights.h5\n",
            "32/32 [==============================] - 3s 91ms/step - loss: 0.0866 - accuracy: 0.9701 - val_loss: 0.1363 - val_accuracy: 0.9432\n",
            "Epoch 6/50\n",
            "31/32 [============================>.] - ETA: 0s - loss: 0.0818 - accuracy: 0.9711\n",
            "Epoch 00006: val_accuracy did not improve from 0.94318\n",
            "32/32 [==============================] - 3s 88ms/step - loss: 0.0848 - accuracy: 0.9681 - val_loss: 0.3907 - val_accuracy: 0.8807\n",
            "Epoch 7/50\n",
            "31/32 [============================>.] - ETA: 0s - loss: 0.1239 - accuracy: 0.9464\n",
            "Epoch 00007: val_accuracy did not improve from 0.94318\n",
            "32/32 [==============================] - 3s 90ms/step - loss: 0.1211 - accuracy: 0.9481 - val_loss: 0.2842 - val_accuracy: 0.9034\n",
            "Epoch 8/50\n",
            "31/32 [============================>.] - ETA: 0s - loss: 0.0308 - accuracy: 0.9938\n",
            "Epoch 00008: val_accuracy did not improve from 0.94318\n",
            "32/32 [==============================] - 3s 88ms/step - loss: 0.0298 - accuracy: 0.9940 - val_loss: 0.3533 - val_accuracy: 0.8864\n"
          ],
          "name": "stdout"
        }
      ]
    },
    {
      "cell_type": "code",
      "metadata": {
        "id": "mDo5z6oZFNYm"
      },
      "source": [
        "model2.load_weights('best_weights.h5')"
      ],
      "execution_count": 41,
      "outputs": []
    },
    {
      "cell_type": "markdown",
      "metadata": {
        "id": "FNTHjUddtCBB"
      },
      "source": [
        "# Custom CNN Model with Image Manipulations\n",
        "\n",
        "To simulate an increase in a sample of image, you can apply image manipulation techniques: cropping, rotation, stretching, etc. Luckily Keras has some handy functions for us to apply these techniques to our mountain and forest example. Simply, you should be able to modify our image generator for the problem. Check out these resources to help you get started: \n",
        "\n",
        "1. [Keras `ImageGenerator` Class](https://keras.io/preprocessing/image/#imagedatagenerator-class)\n",
        "2. [Building a powerful image classifier with very little data](https://blog.keras.io/building-powerful-image-classification-models-using-very-little-data.html)\n",
        " "
      ]
    },
    {
      "cell_type": "code",
      "metadata": {
        "id": "XKioBv3WtCBB",
        "colab": {
          "base_uri": "https://localhost:8080/"
        },
        "outputId": "9f3238eb-8dc4-4e7c-a32b-2970fe8b3732"
      },
      "source": [
        "train_datagen = ImageDataGenerator(\n",
        "        rescale=1./255,\n",
        "        shear_range=0.2,\n",
        "        zoom_range=0.2,\n",
        "        horizontal_flip=True)\n",
        "test_datagen = ImageDataGenerator(rescale=1./255)\n",
        "train_generator = train_datagen.flow_from_directory(\n",
        "        directory=train_dir,\n",
        "        target_size=(IMG_HEIGHT, IMG_WIDTH),\n",
        "        batch_size=batch_size,\n",
        "        class_mode='binary')\n",
        "validation_generator = test_datagen.flow_from_directory(\n",
        "        directory=validation_dir,\n",
        "        target_size=(IMG_HEIGHT, IMG_WIDTH),\n",
        "        batch_size=batch_size,\n",
        "        class_mode='binary')\n"
      ],
      "execution_count": 42,
      "outputs": [
        {
          "output_type": "stream",
          "text": [
            "Found 533 images belonging to 2 classes.\n",
            "Found 195 images belonging to 2 classes.\n"
          ],
          "name": "stdout"
        }
      ]
    },
    {
      "cell_type": "code",
      "metadata": {
        "id": "fGWKcpGUKoT7"
      },
      "source": [
        "model3 = Sequential()\n",
        "model3.add(Conv2D(32, (3,3), activation='relu', input_shape=(224,224,3)))\n",
        "model3.add(MaxPooling2D((2,2)))\n",
        "model3.add(Conv2D(64, (3,3), activation='relu'))\n",
        "model3.add(MaxPooling2D((2,2)))\n",
        "model3.add(Conv2D(64, (3,3), activation='relu'))\n",
        "model3.add(Flatten())\n",
        "model3.add(Dense(64, activation='relu'))\n",
        "model3.add(Dense(10, activation='softmax'))\n"
      ],
      "execution_count": 44,
      "outputs": []
    },
    {
      "cell_type": "code",
      "metadata": {
        "id": "R_mg9L8WK1ML"
      },
      "source": [
        "# Compile Model\n",
        "model3.compile(optimizer='adam',\n",
        "              loss='sparse_categorical_crossentropy',\n",
        "              metrics=['accuracy'])"
      ],
      "execution_count": 46,
      "outputs": []
    },
    {
      "cell_type": "code",
      "metadata": {
        "colab": {
          "base_uri": "https://localhost:8080/"
        },
        "id": "dVUDo_RmJSBz",
        "outputId": "b5738d1a-a0d7-4b40-9f55-0d5c293ea0f2"
      },
      "source": [
        "history = model3.fit(\n",
        "        train_generator,\n",
        "        steps_per_epoch=32,\n",
        "        epochs=50,\n",
        "        validation_data=validation_generator,\n",
        "        validation_steps=total_val // batch_size,\n",
        "        callbacks=[tensorboard_callback, mcp, stop])"
      ],
      "execution_count": 47,
      "outputs": [
        {
          "output_type": "stream",
          "text": [
            "Epoch 1/50\n",
            "32/32 [==============================] - ETA: 0s - loss: 0.7034 - accuracy: 0.7565\n",
            "Epoch 00001: val_accuracy did not improve from 0.94318\n",
            "32/32 [==============================] - 8s 245ms/step - loss: 0.7034 - accuracy: 0.7565 - val_loss: 1.0560 - val_accuracy: 0.5739\n",
            "Epoch 2/50\n",
            "32/32 [==============================] - ETA: 0s - loss: 0.2254 - accuracy: 0.9182\n",
            "Epoch 00002: val_accuracy did not improve from 0.94318\n",
            "32/32 [==============================] - 8s 239ms/step - loss: 0.2254 - accuracy: 0.9182 - val_loss: 0.4598 - val_accuracy: 0.8523\n",
            "Epoch 3/50\n",
            "32/32 [==============================] - ETA: 0s - loss: 0.1873 - accuracy: 0.9301\n",
            "Epoch 00003: val_accuracy did not improve from 0.94318\n",
            "32/32 [==============================] - 8s 241ms/step - loss: 0.1873 - accuracy: 0.9301 - val_loss: 0.1891 - val_accuracy: 0.9205\n",
            "Epoch 4/50\n",
            "32/32 [==============================] - ETA: 0s - loss: 0.2481 - accuracy: 0.9082\n",
            "Epoch 00004: val_accuracy did not improve from 0.94318\n",
            "32/32 [==============================] - 8s 240ms/step - loss: 0.2481 - accuracy: 0.9082 - val_loss: 0.9283 - val_accuracy: 0.6818\n",
            "Epoch 5/50\n",
            "32/32 [==============================] - ETA: 0s - loss: 0.2111 - accuracy: 0.9082\n",
            "Epoch 00005: val_accuracy did not improve from 0.94318\n",
            "32/32 [==============================] - 8s 239ms/step - loss: 0.2111 - accuracy: 0.9082 - val_loss: 0.1691 - val_accuracy: 0.9205\n",
            "Epoch 6/50\n",
            "32/32 [==============================] - ETA: 0s - loss: 0.2017 - accuracy: 0.9182\n",
            "Epoch 00006: val_accuracy did not improve from 0.94318\n",
            "32/32 [==============================] - 8s 238ms/step - loss: 0.2017 - accuracy: 0.9182 - val_loss: 0.2032 - val_accuracy: 0.9205\n"
          ],
          "name": "stdout"
        }
      ]
    },
    {
      "cell_type": "markdown",
      "metadata": {
        "id": "uT3UV3gap9H6"
      },
      "source": [
        "# Resources and Stretch Goals\n",
        "\n",
        "Stretch goals\n",
        "- Enhance your code to use classes/functions and accept terms to search and classes to look for in recognizing the downloaded images (e.g. download images of parties, recognize all that contain balloons)\n",
        "- Check out [other available pretrained networks](https://tfhub.dev), try some and compare\n",
        "- Image recognition/classification is somewhat solved, but *relationships* between entities and describing an image is not - check out some of the extended resources (e.g. [Visual Genome](https://visualgenome.org/)) on the topic\n",
        "- Transfer learning - using images you source yourself, [retrain a classifier](https://www.tensorflow.org/hub/tutorials/image_retraining) with a new category\n",
        "- (Not CNN related) Use [piexif](https://pypi.org/project/piexif/) to check out the metadata of images passed in to your system - see if they're from a national park! (Note - many images lack GPS metadata, so this won't work in most cases, but still cool)\n",
        "\n",
        "Resources\n",
        "- [Deep Residual Learning for Image Recognition](https://arxiv.org/abs/1512.03385) - influential paper (introduced ResNet)\n",
        "- [YOLO: Real-Time Object Detection](https://pjreddie.com/darknet/yolo/) - an influential convolution based object detection system, focused on inference speed (for applications to e.g. self driving vehicles)\n",
        "- [R-CNN, Fast R-CNN, Faster R-CNN, YOLO](https://towardsdatascience.com/r-cnn-fast-r-cnn-faster-r-cnn-yolo-object-detection-algorithms-36d53571365e) - comparison of object detection systems\n",
        "- [Common Objects in Context](http://cocodataset.org/) - a large-scale object detection, segmentation, and captioning dataset\n",
        "- [Visual Genome](https://visualgenome.org/) - a dataset, a knowledge base, an ongoing effort to connect structured image concepts to language"
      ]
    }
  ]
}