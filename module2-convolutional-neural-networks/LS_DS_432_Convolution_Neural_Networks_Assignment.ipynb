{
  "nbformat": 4,
  "nbformat_minor": 0,
  "metadata": {
    "kernelspec": {
      "display_name": "U4-S2-NNF-DS10",
      "language": "python",
      "name": "u4-s2-nnf-ds10"
    },
    "language_info": {
      "codemirror_mode": {
        "name": "ipython",
        "version": 3
      },
      "file_extension": ".py",
      "mimetype": "text/x-python",
      "name": "python",
      "nbconvert_exporter": "python",
      "pygments_lexer": "ipython3",
      "version": "3.7.6"
    },
    "nteract": {
      "version": "0.23.1"
    },
    "colab": {
      "name": "LS_DS_432_Convolution_Neural_Networks_Assignment.ipynb",
      "provenance": [],
      "collapsed_sections": []
    },
    "accelerator": "GPU"
  },
  "cells": [
    {
      "cell_type": "markdown",
      "metadata": {
        "id": "fc4yMj7mtCAZ"
      },
      "source": [
        "<img align=\"left\" src=\"https://lever-client-logos.s3.amazonaws.com/864372b1-534c-480e-acd5-9711f850815c-1524247202159.png\" width=200>\n",
        "<br></br>\n",
        "<br></br>\n",
        "\n",
        "## *Data Science Unit 4 Sprint 3 Assignment 2*\n",
        "# Convolutional Neural Networks (CNNs)"
      ]
    },
    {
      "cell_type": "markdown",
      "metadata": {
        "id": "0lfZdD_cp1t5"
      },
      "source": [
        "# Assignment\n",
        "\n",
        "- <a href=\"#p1\">Part 1:</a> Pre-Trained Model\n",
        "- <a href=\"#p2\">Part 2:</a> Custom CNN Model\n",
        "- <a href=\"#p3\">Part 3:</a> CNN with Data Augmentation\n",
        "\n",
        "\n",
        "You will apply three different CNN models to a binary image classification model using Keras. Classify images of Mountains (`./data/train/mountain/*`) and images of forests (`./data/train/forest/*`). Treat mountains as the positive class (1) and the forest images as the negative (zero). \n",
        "\n",
        "|Mountain (+)|Forest (-)|\n",
        "|---|---|\n",
        "|![](https://github.com/LambdaSchool/DS-Unit-4-Sprint-3-Deep-Learning/blob/main/module2-convolutional-neural-networks/data/train/mountain/art1131.jpg?raw=1)|![](https://github.com/LambdaSchool/DS-Unit-4-Sprint-3-Deep-Learning/blob/main/module2-convolutional-neural-networks/data/validation/forest/cdmc317.jpg?raw=1)|\n",
        "\n",
        "The problem is relatively difficult given that the sample is tiny: there are about 350 observations per class. This sample size might be something that you can expect with prototyping an image classification problem/solution at work. Get accustomed to evaluating several different possible models."
      ]
    },
    {
      "cell_type": "markdown",
      "metadata": {
        "id": "1eawBP-otCAb"
      },
      "source": [
        "# Pre - Trained Model\n",
        "<a id=\"p1\"></a>\n",
        "\n",
        "Load a pretrained network from Keras, [ResNet50](https://tfhub.dev/google/imagenet/resnet_v1_50/classification/1) - a 50 layer deep network trained to recognize [1000 objects](https://storage.googleapis.com/download.tensorflow.org/data/ImageNetLabels.txt). Starting usage:\n",
        "\n",
        "```python\n",
        "import numpy as np\n",
        "\n",
        "from tensorflow.keras.applications.resnet50 import ResNet50\n",
        "from tensorflow.keras.preprocessing import image\n",
        "from tensorflow.keras.applications.resnet50 import preprocess_input, decode_predictions\n",
        "\n",
        "from tensorflow.keras.layers import Dense, GlobalAveragePooling2D\n",
        "from tensorflow.keras.models import Model # This is the functional API\n",
        "\n",
        "resnet = ResNet50(weights='imagenet', include_top=False)\n",
        "\n",
        "```\n",
        "\n",
        "The `include_top` parameter in `ResNet50` will remove the full connected layers from the ResNet model. The next step is to turn off the training of the ResNet layers. We want to use the learned parameters without updating them in future training passes. \n",
        "\n",
        "```python\n",
        "for layer in resnet.layers:\n",
        "    layer.trainable = False\n",
        "```\n",
        "\n",
        "Using the Keras functional API, we will need to additional additional full connected layers to our model. We we removed the top layers, we removed all preivous fully connected layers. In other words, we kept only the feature processing portions of our network. You can expert with additional layers beyond what's listed here. The `GlobalAveragePooling2D` layer functions as a really fancy flatten function by taking the average of each of the last convolutional layer outputs (which is two dimensional still). \n",
        "\n",
        "```python\n",
        "x = resnet.output\n",
        "x = GlobalAveragePooling2D()(x) # This layer is a really fancy flatten\n",
        "x = Dense(1024, activation='relu')(x)\n",
        "predictions = Dense(1, activation='sigmoid')(x)\n",
        "model = Model(resnet.input, predictions)\n",
        "```\n",
        "\n",
        "Your assignment is to apply the transfer learning above to classify images of Mountains (`./data/train/mountain/*`) and images of forests (`./data/train/forest/*`). Treat mountains as the positive class (1) and the forest images as the negative (zero). \n",
        "\n",
        "Steps to complete assignment: \n",
        "1. Load in Image Data into numpy arrays (`X`) \n",
        "2. Create a `y` for the labels\n",
        "3. Train your model with pre-trained layers from resnet\n",
        "4. Report your model's accuracy"
      ]
    },
    {
      "cell_type": "markdown",
      "metadata": {
        "id": "CLdGdXCatCAb"
      },
      "source": [
        "## Load in Data\n",
        "\n",
        "This surprisingly more difficult than it seems, because you are working with directories of images instead of a single file. This boiler plate will help you download a zipped version of the directory of images. The directory is organized into \"train\" and \"validation\" which you can use inside an `ImageGenerator` class to stream batches of images thru your model.  \n"
      ]
    },
    {
      "cell_type": "markdown",
      "metadata": {
        "id": "moRVuHUqtCAc"
      },
      "source": [
        "### Download & Summarize the Data\n",
        "\n",
        "This step is completed for you. Just run the cells and review the results. "
      ]
    },
    {
      "cell_type": "code",
      "metadata": {
        "id": "usHjjtf49xX0"
      },
      "source": [
        "import numpy as np\n",
        "import tensorflow as tf\n",
        "import os\n",
        "\n",
        "from tensorflow.keras.applications.resnet50 import ResNet50\n",
        "from tensorflow.keras.preprocessing import image\n",
        "from tensorflow.keras.applications.resnet50 import preprocess_input, decode_predictions\n",
        "from tensorflow.keras.layers import Dense, GlobalAveragePooling2D, Conv2D, MaxPooling2D, Flatten\n",
        "from tensorflow.keras.models import Model, Sequential # This is the functional API\n",
        "from tensorflow.keras.callbacks import ModelCheckpoint, EarlyStopping, TensorBoard\n",
        "\n",
        "resnet = ResNet50(weights='imagenet', include_top=False)"
      ],
      "execution_count": 51,
      "outputs": []
    },
    {
      "cell_type": "code",
      "metadata": {
        "id": "hP_ioU2VMnA7"
      },
      "source": [
        "# Set Tensorflow random seed for model tuning\n",
        "tf.random.set_seed(17)"
      ],
      "execution_count": 66,
      "outputs": []
    },
    {
      "cell_type": "code",
      "metadata": {
        "id": "3fGQObIA979J"
      },
      "source": [
        "for layer in resnet.layers:\n",
        "    layer.trainable = False"
      ],
      "execution_count": 16,
      "outputs": []
    },
    {
      "cell_type": "code",
      "metadata": {
        "id": "acgYr6_R-I45"
      },
      "source": [
        "x = resnet.output\n",
        "x = GlobalAveragePooling2D()(x) # This layer is a really fancy flatten\n",
        "x = Dense(1024, activation='relu')(x)\n",
        "predictions = Dense(1, activation='sigmoid')(x)\n",
        "model = Model(resnet.input, predictions)"
      ],
      "execution_count": 17,
      "outputs": []
    },
    {
      "cell_type": "code",
      "metadata": {
        "id": "AR66H8o9tCAc",
        "colab": {
          "base_uri": "https://localhost:8080/",
          "height": 89
        },
        "outputId": "ff9f4214-5d0f-41e6-b324-859c5bdf5509"
      },
      "source": [
        "_URL = 'https://github.com/LambdaSchool/DS-Unit-4-Sprint-3-Deep-Learning/blob/main/module2-convolutional-neural-networks/data.zip?raw=true'\n",
        "\n",
        "path_to_zip = tf.keras.utils.get_file('./data.zip', origin=_URL, extract=True)\n",
        "PATH = os.path.join(os.path.dirname(path_to_zip), 'data')\n",
        "''' commented out because I manually uploaded the data to the correct folders before noticing the code given to do it for me ''' "
      ],
      "execution_count": 18,
      "outputs": [
        {
          "output_type": "stream",
          "text": [
            "Downloading data from https://github.com/LambdaSchool/DS-Unit-4-Sprint-3-Deep-Learning/blob/main/module2-convolutional-neural-networks/data.zip?raw=true\n",
            "42172416/42170838 [==============================] - 0s 0us/step\n"
          ],
          "name": "stdout"
        },
        {
          "output_type": "execute_result",
          "data": {
            "application/vnd.google.colaboratory.intrinsic+json": {
              "type": "string"
            },
            "text/plain": [
              "' commented out because I manually uploaded the data to the correct folders before noticing the code given to do it for me '"
            ]
          },
          "metadata": {
            "tags": []
          },
          "execution_count": 18
        }
      ]
    },
    {
      "cell_type": "code",
      "metadata": {
        "id": "MNFsIu_KtCAg"
      },
      "source": [
        "#@title Reverted to given code due to extra class { display-mode: \"both\" }\n",
        "\n",
        "#PATH = './data/' #for future runs, the last cell can be uncommented and this line can be commented out.\n",
        "train_dir = os.path.join(PATH, 'train')\n",
        "validation_dir = os.path.join(PATH, 'validation')"
      ],
      "execution_count": 27,
      "outputs": []
    },
    {
      "cell_type": "code",
      "metadata": {
        "id": "OsI9BQLotCAj"
      },
      "source": [
        "train_mountain_dir = os.path.join(train_dir, 'mountain')  # directory with our training mountain pictures\n",
        "train_forest_dir = os.path.join(train_dir, 'forest')  # directory with our training forest pictures\n",
        "validation_mountain_dir = os.path.join(validation_dir, 'mountain')  # directory with our validation mountain pictures\n",
        "validation_forest_dir = os.path.join(validation_dir, 'forest')  # directory with our validation forest pictures"
      ],
      "execution_count": 28,
      "outputs": []
    },
    {
      "cell_type": "code",
      "metadata": {
        "id": "NUs1e5-XtCAl"
      },
      "source": [
        "num_mountain_tr = len(os.listdir(train_mountain_dir))\n",
        "num_forest_tr = len(os.listdir(train_forest_dir))\n",
        "\n",
        "num_mountain_val = len(os.listdir(validation_mountain_dir))\n",
        "num_forest_val = len(os.listdir(validation_forest_dir))\n",
        "\n",
        "total_train = num_mountain_tr + num_forest_tr\n",
        "total_val = num_mountain_val + num_forest_val"
      ],
      "execution_count": 29,
      "outputs": []
    },
    {
      "cell_type": "code",
      "metadata": {
        "id": "ZmklbgSMtCAn",
        "colab": {
          "base_uri": "https://localhost:8080/"
        },
        "outputId": "22e8df53-49d3-4e8f-debd-9083b557830f"
      },
      "source": [
        "print('total training mountain images:', num_mountain_tr)\n",
        "print('total training forest images:', num_forest_tr)\n",
        "\n",
        "print('total validation mountain images:', num_mountain_val)\n",
        "print('total validation forest images:', num_forest_val)\n",
        "print(\"--\")\n",
        "print(\"Total training images:\", total_train)\n",
        "print(\"Total validation images:\", total_val)"
      ],
      "execution_count": 67,
      "outputs": [
        {
          "output_type": "stream",
          "text": [
            "total training mountain images: 254\n",
            "total training forest images: 270\n",
            "total validation mountain images: 125\n",
            "total validation forest images: 62\n",
            "--\n",
            "Total training images: 524\n",
            "Total validation images: 187\n"
          ],
          "name": "stdout"
        }
      ]
    },
    {
      "cell_type": "markdown",
      "metadata": {
        "id": "dQ4ag4ultCAq"
      },
      "source": [
        "### Keras `ImageGenerator` to Process the Data\n",
        "\n",
        "This step is completed for you, but please review the code. The `ImageGenerator` class reads in batches of data from a directory and pass them to the model one batch at a time. Just like large text files, this method is advantageous, because it stifles the need to load a bunch of images into memory. \n",
        "\n",
        "Check out the documentation for this class method: [Keras `ImageGenerator` Class](https://keras.io/preprocessing/image/#imagedatagenerator-class). You'll expand it's use in the third assignment objective."
      ]
    },
    {
      "cell_type": "code",
      "metadata": {
        "id": "67i9IW49tCAq"
      },
      "source": [
        "batch_size = 16\n",
        "epochs = 50\n",
        "IMG_HEIGHT = 224\n",
        "IMG_WIDTH = 224"
      ],
      "execution_count": 68,
      "outputs": []
    },
    {
      "cell_type": "code",
      "metadata": {
        "id": "B1wNKMo1tCAt"
      },
      "source": [
        "from tensorflow.keras.preprocessing.image import ImageDataGenerator\n",
        "\n",
        "train_image_generator = ImageDataGenerator(rescale=1./255) # Generator for our training data\n",
        "validation_image_generator = ImageDataGenerator(rescale=1./255) # Generator for our validation data"
      ],
      "execution_count": 69,
      "outputs": []
    },
    {
      "cell_type": "code",
      "metadata": {
        "id": "ndsuM4L9tCAv",
        "colab": {
          "base_uri": "https://localhost:8080/"
        },
        "outputId": "7a06e6a5-7c1e-43cd-db3d-3d6b4f88ed13"
      },
      "source": [
        "train_data_gen = train_image_generator.flow_from_directory(batch_size=batch_size,\n",
        "                                                           directory=train_dir,\n",
        "                                                           shuffle=True,\n",
        "                                                           target_size=(IMG_HEIGHT, IMG_WIDTH),\n",
        "                                                           class_mode='binary')"
      ],
      "execution_count": 70,
      "outputs": [
        {
          "output_type": "stream",
          "text": [
            "Found 533 images belonging to 2 classes.\n"
          ],
          "name": "stdout"
        }
      ]
    },
    {
      "cell_type": "code",
      "metadata": {
        "id": "9kxlk3optCAy",
        "colab": {
          "base_uri": "https://localhost:8080/"
        },
        "outputId": "d6225a52-90fc-4b1b-a73a-00cce235903d"
      },
      "source": [
        "val_data_gen = validation_image_generator.flow_from_directory(batch_size=batch_size,\n",
        "                                                              directory=validation_dir,\n",
        "                                                              target_size=(IMG_HEIGHT, IMG_WIDTH),\n",
        "                                                              class_mode='binary')"
      ],
      "execution_count": 34,
      "outputs": [
        {
          "output_type": "stream",
          "text": [
            "Found 195 images belonging to 2 classes.\n"
          ],
          "name": "stdout"
        }
      ]
    },
    {
      "cell_type": "markdown",
      "metadata": {
        "id": "2l7ue6NutCA0"
      },
      "source": [
        "## Instatiate Model"
      ]
    },
    {
      "cell_type": "code",
      "metadata": {
        "id": "mKNIYOEItCA0",
        "colab": {
          "base_uri": "https://localhost:8080/"
        },
        "outputId": "02fe2f2d-1470-4aae-cb0f-9b1a6bdc86ad"
      },
      "source": [
        "model = Sequential()\n",
        "model.add(Conv2D(32, (3,3), activation='relu', input_shape=(224,224,3)))\n",
        "model.add(MaxPooling2D((2,2)))\n",
        "model.add(Conv2D(64, (3,3), activation='relu'))\n",
        "model.add(MaxPooling2D((2,2)))\n",
        "model.add(Conv2D(64, (3,3), activation='relu'))\n",
        "model.add(Flatten())\n",
        "model.add(Dense(64, activation='relu'))\n",
        "model.add(Dense(10, activation='softmax'))\n",
        "model.summary()"
      ],
      "execution_count": 71,
      "outputs": [
        {
          "output_type": "stream",
          "text": [
            "Model: \"sequential_9\"\n",
            "_________________________________________________________________\n",
            "Layer (type)                 Output Shape              Param #   \n",
            "=================================================================\n",
            "conv2d_16 (Conv2D)           (None, 222, 222, 32)      896       \n",
            "_________________________________________________________________\n",
            "max_pooling2d_10 (MaxPooling (None, 111, 111, 32)      0         \n",
            "_________________________________________________________________\n",
            "conv2d_17 (Conv2D)           (None, 109, 109, 64)      18496     \n",
            "_________________________________________________________________\n",
            "max_pooling2d_11 (MaxPooling (None, 54, 54, 64)        0         \n",
            "_________________________________________________________________\n",
            "conv2d_18 (Conv2D)           (None, 52, 52, 64)        36928     \n",
            "_________________________________________________________________\n",
            "flatten_5 (Flatten)          (None, 173056)            0         \n",
            "_________________________________________________________________\n",
            "dense_16 (Dense)             (None, 64)                11075648  \n",
            "_________________________________________________________________\n",
            "dense_17 (Dense)             (None, 10)                650       \n",
            "=================================================================\n",
            "Total params: 11,132,618\n",
            "Trainable params: 11,132,618\n",
            "Non-trainable params: 0\n",
            "_________________________________________________________________\n"
          ],
          "name": "stdout"
        }
      ]
    },
    {
      "cell_type": "code",
      "metadata": {
        "id": "ctcD8L55Gugm"
      },
      "source": [
        "# Compile Model\n",
        "model.compile(optimizer='adam',\n",
        "              loss='sparse_categorical_crossentropy',\n",
        "              metrics=['accuracy'])"
      ],
      "execution_count": 72,
      "outputs": []
    },
    {
      "cell_type": "markdown",
      "metadata": {
        "id": "BVPBWYG7tCA2"
      },
      "source": [
        "## Fit Model"
      ]
    },
    {
      "cell_type": "code",
      "metadata": {
        "id": "H4XdvWA5tCA3",
        "colab": {
          "base_uri": "https://localhost:8080/"
        },
        "outputId": "e1713848-3365-4b8c-a476-0272389c72aa"
      },
      "source": [
        "history = model.fit(\n",
        "    train_data_gen,\n",
        "    steps_per_epoch=total_train // batch_size,\n",
        "    epochs=epochs,\n",
        "    validation_data=val_data_gen,\n",
        "    validation_steps=total_val // batch_size\n",
        ")"
      ],
      "execution_count": 73,
      "outputs": [
        {
          "output_type": "stream",
          "text": [
            "Epoch 1/50\n",
            "32/32 [==============================] - 2s 64ms/step - loss: 0.6939 - accuracy: 0.7637 - val_loss: 0.3012 - val_accuracy: 0.8580\n",
            "Epoch 2/50\n",
            "32/32 [==============================] - 2s 59ms/step - loss: 0.2098 - accuracy: 0.9160 - val_loss: 0.2369 - val_accuracy: 0.9034\n",
            "Epoch 3/50\n",
            "32/32 [==============================] - 2s 58ms/step - loss: 0.3020 - accuracy: 0.8862 - val_loss: 0.6457 - val_accuracy: 0.7443\n",
            "Epoch 4/50\n",
            "32/32 [==============================] - 2s 59ms/step - loss: 0.1928 - accuracy: 0.9321 - val_loss: 0.1709 - val_accuracy: 0.9261\n",
            "Epoch 5/50\n",
            "32/32 [==============================] - 2s 59ms/step - loss: 0.1747 - accuracy: 0.9301 - val_loss: 0.1850 - val_accuracy: 0.9148\n",
            "Epoch 6/50\n",
            "32/32 [==============================] - 2s 59ms/step - loss: 0.1764 - accuracy: 0.9321 - val_loss: 0.2060 - val_accuracy: 0.9091\n",
            "Epoch 7/50\n",
            "32/32 [==============================] - 2s 59ms/step - loss: 0.0802 - accuracy: 0.9760 - val_loss: 0.1823 - val_accuracy: 0.9375\n",
            "Epoch 8/50\n",
            "32/32 [==============================] - 2s 59ms/step - loss: 0.0586 - accuracy: 0.9780 - val_loss: 0.2545 - val_accuracy: 0.9034\n",
            "Epoch 9/50\n",
            "32/32 [==============================] - 2s 59ms/step - loss: 0.0905 - accuracy: 0.9641 - val_loss: 0.2777 - val_accuracy: 0.8977\n",
            "Epoch 10/50\n",
            "32/32 [==============================] - 2s 59ms/step - loss: 0.0446 - accuracy: 0.9880 - val_loss: 0.2411 - val_accuracy: 0.9034\n",
            "Epoch 11/50\n",
            "32/32 [==============================] - 2s 58ms/step - loss: 0.0178 - accuracy: 0.9980 - val_loss: 0.2741 - val_accuracy: 0.9148\n",
            "Epoch 12/50\n",
            "32/32 [==============================] - 2s 58ms/step - loss: 0.0071 - accuracy: 0.9980 - val_loss: 0.3156 - val_accuracy: 0.9205\n",
            "Epoch 13/50\n",
            "32/32 [==============================] - 2s 58ms/step - loss: 0.0025 - accuracy: 1.0000 - val_loss: 0.3177 - val_accuracy: 0.9148\n",
            "Epoch 14/50\n",
            "32/32 [==============================] - 2s 59ms/step - loss: 0.0018 - accuracy: 1.0000 - val_loss: 0.3607 - val_accuracy: 0.9261\n",
            "Epoch 15/50\n",
            "32/32 [==============================] - 2s 60ms/step - loss: 0.0013 - accuracy: 1.0000 - val_loss: 0.2919 - val_accuracy: 0.9261\n",
            "Epoch 16/50\n",
            "32/32 [==============================] - 2s 60ms/step - loss: 8.4511e-04 - accuracy: 1.0000 - val_loss: 0.5012 - val_accuracy: 0.9034\n",
            "Epoch 17/50\n",
            "32/32 [==============================] - 2s 59ms/step - loss: 9.0048e-04 - accuracy: 1.0000 - val_loss: 0.2866 - val_accuracy: 0.9375\n",
            "Epoch 18/50\n",
            "32/32 [==============================] - 2s 59ms/step - loss: 4.7612e-04 - accuracy: 1.0000 - val_loss: 0.4169 - val_accuracy: 0.9205\n",
            "Epoch 19/50\n",
            "32/32 [==============================] - 2s 60ms/step - loss: 3.1643e-04 - accuracy: 1.0000 - val_loss: 0.4166 - val_accuracy: 0.9205\n",
            "Epoch 20/50\n",
            "32/32 [==============================] - 2s 59ms/step - loss: 2.3149e-04 - accuracy: 1.0000 - val_loss: 0.4638 - val_accuracy: 0.9148\n",
            "Epoch 21/50\n",
            "32/32 [==============================] - 2s 58ms/step - loss: 1.9743e-04 - accuracy: 1.0000 - val_loss: 0.4671 - val_accuracy: 0.9205\n",
            "Epoch 22/50\n",
            "32/32 [==============================] - 2s 59ms/step - loss: 1.7983e-04 - accuracy: 1.0000 - val_loss: 0.4443 - val_accuracy: 0.9205\n",
            "Epoch 23/50\n",
            "32/32 [==============================] - 2s 60ms/step - loss: 1.4522e-04 - accuracy: 1.0000 - val_loss: 0.5175 - val_accuracy: 0.9091\n",
            "Epoch 24/50\n",
            "32/32 [==============================] - 2s 58ms/step - loss: 1.2934e-04 - accuracy: 1.0000 - val_loss: 0.4048 - val_accuracy: 0.9261\n",
            "Epoch 25/50\n",
            "32/32 [==============================] - 2s 59ms/step - loss: 1.0177e-04 - accuracy: 1.0000 - val_loss: 0.5678 - val_accuracy: 0.9091\n",
            "Epoch 26/50\n",
            "32/32 [==============================] - 2s 60ms/step - loss: 9.8507e-05 - accuracy: 1.0000 - val_loss: 0.5770 - val_accuracy: 0.9091\n",
            "Epoch 27/50\n",
            "32/32 [==============================] - 2s 60ms/step - loss: 8.4770e-05 - accuracy: 1.0000 - val_loss: 0.6296 - val_accuracy: 0.9034\n",
            "Epoch 28/50\n",
            "32/32 [==============================] - 2s 59ms/step - loss: 9.4779e-05 - accuracy: 1.0000 - val_loss: 0.5000 - val_accuracy: 0.9261\n",
            "Epoch 29/50\n",
            "32/32 [==============================] - 2s 61ms/step - loss: 8.9745e-05 - accuracy: 1.0000 - val_loss: 0.4722 - val_accuracy: 0.9148\n",
            "Epoch 30/50\n",
            "32/32 [==============================] - 2s 59ms/step - loss: 7.9207e-05 - accuracy: 1.0000 - val_loss: 0.4867 - val_accuracy: 0.9148\n",
            "Epoch 31/50\n",
            "32/32 [==============================] - 2s 60ms/step - loss: 5.6312e-05 - accuracy: 1.0000 - val_loss: 0.5215 - val_accuracy: 0.9148\n",
            "Epoch 32/50\n",
            "32/32 [==============================] - 2s 59ms/step - loss: 5.2081e-05 - accuracy: 1.0000 - val_loss: 0.6191 - val_accuracy: 0.9091\n",
            "Epoch 33/50\n",
            "32/32 [==============================] - 2s 59ms/step - loss: 4.7387e-05 - accuracy: 1.0000 - val_loss: 0.5254 - val_accuracy: 0.9148\n",
            "Epoch 34/50\n",
            "32/32 [==============================] - 2s 59ms/step - loss: 4.5560e-05 - accuracy: 1.0000 - val_loss: 0.6316 - val_accuracy: 0.9148\n",
            "Epoch 35/50\n",
            "32/32 [==============================] - 2s 57ms/step - loss: 4.6848e-05 - accuracy: 1.0000 - val_loss: 0.5552 - val_accuracy: 0.9148\n",
            "Epoch 36/50\n",
            "32/32 [==============================] - 2s 59ms/step - loss: 3.5861e-05 - accuracy: 1.0000 - val_loss: 0.6505 - val_accuracy: 0.9091\n",
            "Epoch 37/50\n",
            "32/32 [==============================] - 2s 58ms/step - loss: 3.5035e-05 - accuracy: 1.0000 - val_loss: 0.6158 - val_accuracy: 0.9091\n",
            "Epoch 38/50\n",
            "32/32 [==============================] - 2s 58ms/step - loss: 3.3500e-05 - accuracy: 1.0000 - val_loss: 0.6489 - val_accuracy: 0.9205\n",
            "Epoch 39/50\n",
            "32/32 [==============================] - 2s 58ms/step - loss: 3.0520e-05 - accuracy: 1.0000 - val_loss: 0.6482 - val_accuracy: 0.9205\n",
            "Epoch 40/50\n",
            "32/32 [==============================] - 2s 59ms/step - loss: 2.8905e-05 - accuracy: 1.0000 - val_loss: 0.6723 - val_accuracy: 0.9091\n",
            "Epoch 41/50\n",
            "32/32 [==============================] - 2s 59ms/step - loss: 2.8276e-05 - accuracy: 1.0000 - val_loss: 0.6302 - val_accuracy: 0.9205\n",
            "Epoch 42/50\n",
            "32/32 [==============================] - 2s 59ms/step - loss: 2.6849e-05 - accuracy: 1.0000 - val_loss: 0.5836 - val_accuracy: 0.9261\n",
            "Epoch 43/50\n",
            "32/32 [==============================] - 2s 59ms/step - loss: 2.4093e-05 - accuracy: 1.0000 - val_loss: 0.6250 - val_accuracy: 0.9261\n",
            "Epoch 44/50\n",
            "32/32 [==============================] - 2s 59ms/step - loss: 2.1739e-05 - accuracy: 1.0000 - val_loss: 0.6810 - val_accuracy: 0.9205\n",
            "Epoch 45/50\n",
            "32/32 [==============================] - 2s 58ms/step - loss: 2.0368e-05 - accuracy: 1.0000 - val_loss: 0.6244 - val_accuracy: 0.9261\n",
            "Epoch 46/50\n",
            "32/32 [==============================] - 2s 59ms/step - loss: 2.0603e-05 - accuracy: 1.0000 - val_loss: 0.6539 - val_accuracy: 0.9261\n",
            "Epoch 47/50\n",
            "32/32 [==============================] - 2s 59ms/step - loss: 1.9311e-05 - accuracy: 1.0000 - val_loss: 0.6803 - val_accuracy: 0.9148\n",
            "Epoch 48/50\n",
            "32/32 [==============================] - 2s 58ms/step - loss: 1.7955e-05 - accuracy: 1.0000 - val_loss: 0.6830 - val_accuracy: 0.9205\n",
            "Epoch 49/50\n",
            "32/32 [==============================] - 2s 59ms/step - loss: 1.6897e-05 - accuracy: 1.0000 - val_loss: 0.6252 - val_accuracy: 0.9205\n",
            "Epoch 50/50\n",
            "32/32 [==============================] - 2s 58ms/step - loss: 1.5953e-05 - accuracy: 1.0000 - val_loss: 0.5547 - val_accuracy: 0.9261\n"
          ],
          "name": "stdout"
        }
      ]
    },
    {
      "cell_type": "markdown",
      "metadata": {
        "id": "kCgi913jIimD"
      },
      "source": [
        "At first glance, I feel the best results befgore overfitting are found in Epoch 7/50\n",
        "\n",
        "32/32 [==============================] - 2s 59ms/step - loss: 0.0802 - accuracy: 0.9760 - val_loss: 0.1823 - val_accuracy: 0.9375\n",
        "\n",
        "Early stopping would be incorporated if this were going to be used in production.\n",
        "\n",
        "\n",
        "> Indented block\n",
        "\n"
      ]
    },
    {
      "cell_type": "markdown",
      "metadata": {
        "id": "UPzsgS94tCA5"
      },
      "source": [
        "# Custom CNN Model\n",
        "\n",
        "In this step, write and train your own convolutional neural network using Keras. You can use any architecture that suits you as long as it has at least one convolutional and one pooling layer at the beginning of the network - you can add more if you want. "
      ]
    },
    {
      "cell_type": "code",
      "metadata": {
        "id": "hqEmh5NaJ1NI"
      },
      "source": [
        "# meh.. let's do it anyway\n",
        "logdir = os.path.join(\"logs\", \"EarlyStopping-Loss\")\n",
        "stop = EarlyStopping(monitor='val_accuracy', min_delta=0.001, patience=3)\n",
        "mcp = ModelCheckpoint('best_weights.h5', \n",
        "                      monitor='val_accuracy', \n",
        "                      verbose=1, \n",
        "                      save_best_only=True,\n",
        "                      save_weights_only=True)\n",
        "tensorboard_callback = tf.keras.callbacks.TensorBoard(logdir, histogram_freq=1)"
      ],
      "execution_count": 77,
      "outputs": []
    },
    {
      "cell_type": "code",
      "metadata": {
        "id": "ORcLYfU2KVCt"
      },
      "source": [
        "model = Sequential()\n",
        "model.add(Conv2D(32, (3,3), activation='relu', input_shape=(224,224,3)))\n",
        "model.add(MaxPooling2D((2,2)))\n",
        "model.add(Conv2D(64, (3,3), activation='relu'))\n",
        "model.add(MaxPooling2D((2,2)))\n",
        "model.add(Conv2D(64, (3,3), activation='relu'))\n",
        "model.add(Flatten())\n",
        "model.add(Dense(64, activation='relu'))\n",
        "model.add(Dense(10, activation='softmax'))\n"
      ],
      "execution_count": 78,
      "outputs": []
    },
    {
      "cell_type": "code",
      "metadata": {
        "id": "KODv7ClBKVCu"
      },
      "source": [
        "# Compile Model\n",
        "model.compile(optimizer='adam',\n",
        "              loss='sparse_categorical_crossentropy',\n",
        "              metrics=['accuracy'])"
      ],
      "execution_count": 79,
      "outputs": []
    },
    {
      "cell_type": "markdown",
      "metadata": {
        "id": "X___0aprKVCu"
      },
      "source": [
        "## Fit Model"
      ]
    },
    {
      "cell_type": "code",
      "metadata": {
        "colab": {
          "base_uri": "https://localhost:8080/"
        },
        "id": "mn-40XPRKVCu",
        "outputId": "417f8c46-f79e-4d73-cdb2-90e1111406d1"
      },
      "source": [
        "history = model.fit(\n",
        "    train_data_gen,\n",
        "    steps_per_epoch=total_train // batch_size,\n",
        "    epochs=epochs,\n",
        "    validation_data=val_data_gen,\n",
        "    validation_steps=total_val // batch_size,\n",
        "    callbacks=[tensorboard_callback, stop]\n",
        ")"
      ],
      "execution_count": 80,
      "outputs": [
        {
          "output_type": "stream",
          "text": [
            "Epoch 1/50\n",
            " 2/32 [>.............................] - ETA: 1s - loss: 3.3367 - accuracy: 0.2812WARNING:tensorflow:Callbacks method `on_train_batch_end` is slow compared to the batch time (batch time: 0.0322s vs `on_train_batch_end` time: 0.0550s). Check your callbacks.\n",
            "32/32 [==============================] - 3s 88ms/step - loss: 1.2333 - accuracy: 0.7046 - val_loss: 0.1700 - val_accuracy: 0.9375\n",
            "Epoch 2/50\n",
            "32/32 [==============================] - 3s 82ms/step - loss: 0.2201 - accuracy: 0.9122 - val_loss: 0.3627 - val_accuracy: 0.8636\n",
            "Epoch 3/50\n",
            "32/32 [==============================] - 3s 82ms/step - loss: 0.1966 - accuracy: 0.9082 - val_loss: 0.7310 - val_accuracy: 0.7784\n",
            "Epoch 4/50\n",
            "32/32 [==============================] - 3s 81ms/step - loss: 0.1405 - accuracy: 0.9481 - val_loss: 0.1454 - val_accuracy: 0.9432\n",
            "Epoch 5/50\n",
            "32/32 [==============================] - 3s 81ms/step - loss: 0.1095 - accuracy: 0.9601 - val_loss: 0.4579 - val_accuracy: 0.8352\n",
            "Epoch 6/50\n",
            "32/32 [==============================] - 3s 81ms/step - loss: 0.1886 - accuracy: 0.9261 - val_loss: 0.2793 - val_accuracy: 0.8920\n",
            "Epoch 7/50\n",
            "32/32 [==============================] - 3s 81ms/step - loss: 0.0958 - accuracy: 0.9721 - val_loss: 0.3696 - val_accuracy: 0.8750\n"
          ],
          "name": "stdout"
        }
      ]
    },
    {
      "cell_type": "markdown",
      "metadata": {
        "id": "FNTHjUddtCBB"
      },
      "source": [
        "# Custom CNN Model with Image Manipulations\n",
        "\n",
        "To simulate an increase in a sample of image, you can apply image manipulation techniques: cropping, rotation, stretching, etc. Luckily Keras has some handy functions for us to apply these techniques to our mountain and forest example. Simply, you should be able to modify our image generator for the problem. Check out these resources to help you get started: \n",
        "\n",
        "1. [Keras `ImageGenerator` Class](https://keras.io/preprocessing/image/#imagedatagenerator-class)\n",
        "2. [Building a powerful image classifier with very little data](https://blog.keras.io/building-powerful-image-classification-models-using-very-little-data.html)\n",
        " "
      ]
    },
    {
      "cell_type": "code",
      "metadata": {
        "id": "XKioBv3WtCBB"
      },
      "source": [
        "datagen = ImageDataGenerator(\n",
        "    featurewise_center=True,\n",
        "    featurewise_std_normalization=True,\n",
        "    rotation_range=10,\n",
        "    width_shift_range=0.2,\n",
        "    height_shift_range=0.2,\n",
        "    horizontal_flip=True)\n",
        "# compute quantities required for featurewise normalization\n",
        "# (std, mean, and principal components if ZCA whitening is applied)\n",
        "datagen.fit(train_data_gen)\n",
        "# fits the model on batches with real-time data augmentation:\n",
        "model.fit(datagen.flow(train_data_gen, batch_size=32),\n",
        "          steps_per_epoch=len(train_data_gen) / 32, epochs=epochs)"
      ],
      "execution_count": null,
      "outputs": []
    },
    {
      "cell_type": "markdown",
      "metadata": {
        "id": "uT3UV3gap9H6"
      },
      "source": [
        "# Resources and Stretch Goals\n",
        "\n",
        "Stretch goals\n",
        "- Enhance your code to use classes/functions and accept terms to search and classes to look for in recognizing the downloaded images (e.g. download images of parties, recognize all that contain balloons)\n",
        "- Check out [other available pretrained networks](https://tfhub.dev), try some and compare\n",
        "- Image recognition/classification is somewhat solved, but *relationships* between entities and describing an image is not - check out some of the extended resources (e.g. [Visual Genome](https://visualgenome.org/)) on the topic\n",
        "- Transfer learning - using images you source yourself, [retrain a classifier](https://www.tensorflow.org/hub/tutorials/image_retraining) with a new category\n",
        "- (Not CNN related) Use [piexif](https://pypi.org/project/piexif/) to check out the metadata of images passed in to your system - see if they're from a national park! (Note - many images lack GPS metadata, so this won't work in most cases, but still cool)\n",
        "\n",
        "Resources\n",
        "- [Deep Residual Learning for Image Recognition](https://arxiv.org/abs/1512.03385) - influential paper (introduced ResNet)\n",
        "- [YOLO: Real-Time Object Detection](https://pjreddie.com/darknet/yolo/) - an influential convolution based object detection system, focused on inference speed (for applications to e.g. self driving vehicles)\n",
        "- [R-CNN, Fast R-CNN, Faster R-CNN, YOLO](https://towardsdatascience.com/r-cnn-fast-r-cnn-faster-r-cnn-yolo-object-detection-algorithms-36d53571365e) - comparison of object detection systems\n",
        "- [Common Objects in Context](http://cocodataset.org/) - a large-scale object detection, segmentation, and captioning dataset\n",
        "- [Visual Genome](https://visualgenome.org/) - a dataset, a knowledge base, an ongoing effort to connect structured image concepts to language"
      ]
    }
  ]
}